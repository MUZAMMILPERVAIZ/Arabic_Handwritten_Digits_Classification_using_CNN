{
 "cells": [
  {
   "cell_type": "markdown",
   "metadata": {},
   "source": [
    "# Arabic Handwritten Digits Classification"
   ]
  },
  {
   "cell_type": "code",
   "execution_count": 131,
   "metadata": {},
   "outputs": [],
   "source": [
    "import cv2\n",
    "\n",
    "import pandas as pd\n",
    "import numpy as np\n",
    "import seaborn as sns\n",
    "import matplotlib.pyplot as plt\n",
    "import tensorflow as tf\n",
    "from tensorflow import keras\n",
    "from sklearn.metrics import accuracy_score, confusion_matrix, classification_report\n",
    "from keras.preprocessing.image import ImageDataGenerator\n",
    "from keras import Model, layers\n",
    "# Load the TensorBoard notebook extension\n",
    "#% load_ext tensorboard\n"
   ]
  },
  {
   "cell_type": "code",
   "execution_count": 63,
   "metadata": {
    "pycharm": {
     "name": "#%%\n"
    }
   },
   "outputs": [
    {
     "data": {
      "text/plain": "{1: 'ا',\n 2: 'ب',\n 3: 'ت',\n 4: 'ث',\n 5: 'ج',\n 6: 'ح',\n 7: 'خ',\n 8: 'د',\n 9: 'ذ',\n 10: 'ر',\n 11: 'ز',\n 12: 'س',\n 13: 'ش',\n 14: 'ص',\n 15: 'ض',\n 16: 'ط',\n 17: 'ظ',\n 18: 'ع',\n 19: 'غ',\n 20: 'ف',\n 21: 'ق',\n 22: 'ك',\n 23: 'ل',\n 24: 'م',\n 25: 'ن',\n 26: 'ه',\n 27: 'و',\n 28: 'ي'}"
     },
     "execution_count": 63,
     "metadata": {},
     "output_type": "execute_result"
    }
   ],
   "source": [
    "characters = [\"ا\", \"ب\", \"ت\", \"ث\", \"ج\", \"ح\", \"خ\", \"د\", \"ذ\", \"ر\", \"ز\", \"س\", \"ش\", \"ص\", \"ض\", \"ط\", \"ظ\", \"ع\", \"غ\", \"ف\", \"ق\",\n",
    "              \"ك\", \"ل\", \"م\", \"ن\", \"ه\", \"و\", \"ي\"]\n",
    "characters_dict = dict(zip(np.arange(1, len(characters) + 1), characters))\n",
    "characters_dict"
   ]
  },
  {
   "cell_type": "code",
   "execution_count": 64,
   "metadata": {
    "pycharm": {
     "name": "#%%\n"
    }
   },
   "outputs": [
    {
     "data": {
      "text/plain": "   1\n0  1\n1  1\n2  1\n3  1\n4  1",
      "text/html": "<div>\n<style scoped>\n    .dataframe tbody tr th:only-of-type {\n        vertical-align: middle;\n    }\n\n    .dataframe tbody tr th {\n        vertical-align: top;\n    }\n\n    .dataframe thead th {\n        text-align: right;\n    }\n</style>\n<table border=\"1\" class=\"dataframe\">\n  <thead>\n    <tr style=\"text-align: right;\">\n      <th></th>\n      <th>1</th>\n    </tr>\n  </thead>\n  <tbody>\n    <tr>\n      <th>0</th>\n      <td>1</td>\n    </tr>\n    <tr>\n      <th>1</th>\n      <td>1</td>\n    </tr>\n    <tr>\n      <th>2</th>\n      <td>1</td>\n    </tr>\n    <tr>\n      <th>3</th>\n      <td>1</td>\n    </tr>\n    <tr>\n      <th>4</th>\n      <td>1</td>\n    </tr>\n  </tbody>\n</table>\n</div>"
     },
     "execution_count": 64,
     "metadata": {},
     "output_type": "execute_result"
    }
   ],
   "source": [
    "y_train = pd.read_csv(\n",
    "    \"/home/muzammil/Python_programs/Arabic Handwritten digits/archive/Arabic Handwritten Characters Dataset CSV/csvTrainLabel 13440x1.csv\")\n",
    "Y_train = y_train\n",
    "Y_train.head()"
   ]
  },
  {
   "cell_type": "code",
   "execution_count": 65,
   "metadata": {
    "pycharm": {
     "name": "#%%\n"
    }
   },
   "outputs": [
    {
     "data": {
      "text/plain": "   0  0.1  0.2  0.3  0.4  0.5  0.6  0.7  0.8  0.9  ...  0.896  0.897  0.898  \\\n0  0    0    0    0    0    0    0    0    0    0  ...      0      0      0   \n1  0    0    0    0    0    0    0    0    0    0  ...      0      0      0   \n2  0    0    0    0    0    0    0    0    0    0  ...      0      0      0   \n3  0    0    0    0    0    0    0    0    0    0  ...      0      0      0   \n4  0    0    0    0    0    0    0    0    0    0  ...      0      0      0   \n\n   0.899  0.900  0.901  0.902  0.903  0.904  0.905  \n0      0      0      0      0      0      0      0  \n1      0      0      0      0      0      0      0  \n2      0      0      0      0      0      0      0  \n3      0      0      0      0      0      0      0  \n4      0      0      0      0      0      0      0  \n\n[5 rows x 1024 columns]",
      "text/html": "<div>\n<style scoped>\n    .dataframe tbody tr th:only-of-type {\n        vertical-align: middle;\n    }\n\n    .dataframe tbody tr th {\n        vertical-align: top;\n    }\n\n    .dataframe thead th {\n        text-align: right;\n    }\n</style>\n<table border=\"1\" class=\"dataframe\">\n  <thead>\n    <tr style=\"text-align: right;\">\n      <th></th>\n      <th>0</th>\n      <th>0.1</th>\n      <th>0.2</th>\n      <th>0.3</th>\n      <th>0.4</th>\n      <th>0.5</th>\n      <th>0.6</th>\n      <th>0.7</th>\n      <th>0.8</th>\n      <th>0.9</th>\n      <th>...</th>\n      <th>0.896</th>\n      <th>0.897</th>\n      <th>0.898</th>\n      <th>0.899</th>\n      <th>0.900</th>\n      <th>0.901</th>\n      <th>0.902</th>\n      <th>0.903</th>\n      <th>0.904</th>\n      <th>0.905</th>\n    </tr>\n  </thead>\n  <tbody>\n    <tr>\n      <th>0</th>\n      <td>0</td>\n      <td>0</td>\n      <td>0</td>\n      <td>0</td>\n      <td>0</td>\n      <td>0</td>\n      <td>0</td>\n      <td>0</td>\n      <td>0</td>\n      <td>0</td>\n      <td>...</td>\n      <td>0</td>\n      <td>0</td>\n      <td>0</td>\n      <td>0</td>\n      <td>0</td>\n      <td>0</td>\n      <td>0</td>\n      <td>0</td>\n      <td>0</td>\n      <td>0</td>\n    </tr>\n    <tr>\n      <th>1</th>\n      <td>0</td>\n      <td>0</td>\n      <td>0</td>\n      <td>0</td>\n      <td>0</td>\n      <td>0</td>\n      <td>0</td>\n      <td>0</td>\n      <td>0</td>\n      <td>0</td>\n      <td>...</td>\n      <td>0</td>\n      <td>0</td>\n      <td>0</td>\n      <td>0</td>\n      <td>0</td>\n      <td>0</td>\n      <td>0</td>\n      <td>0</td>\n      <td>0</td>\n      <td>0</td>\n    </tr>\n    <tr>\n      <th>2</th>\n      <td>0</td>\n      <td>0</td>\n      <td>0</td>\n      <td>0</td>\n      <td>0</td>\n      <td>0</td>\n      <td>0</td>\n      <td>0</td>\n      <td>0</td>\n      <td>0</td>\n      <td>...</td>\n      <td>0</td>\n      <td>0</td>\n      <td>0</td>\n      <td>0</td>\n      <td>0</td>\n      <td>0</td>\n      <td>0</td>\n      <td>0</td>\n      <td>0</td>\n      <td>0</td>\n    </tr>\n    <tr>\n      <th>3</th>\n      <td>0</td>\n      <td>0</td>\n      <td>0</td>\n      <td>0</td>\n      <td>0</td>\n      <td>0</td>\n      <td>0</td>\n      <td>0</td>\n      <td>0</td>\n      <td>0</td>\n      <td>...</td>\n      <td>0</td>\n      <td>0</td>\n      <td>0</td>\n      <td>0</td>\n      <td>0</td>\n      <td>0</td>\n      <td>0</td>\n      <td>0</td>\n      <td>0</td>\n      <td>0</td>\n    </tr>\n    <tr>\n      <th>4</th>\n      <td>0</td>\n      <td>0</td>\n      <td>0</td>\n      <td>0</td>\n      <td>0</td>\n      <td>0</td>\n      <td>0</td>\n      <td>0</td>\n      <td>0</td>\n      <td>0</td>\n      <td>...</td>\n      <td>0</td>\n      <td>0</td>\n      <td>0</td>\n      <td>0</td>\n      <td>0</td>\n      <td>0</td>\n      <td>0</td>\n      <td>0</td>\n      <td>0</td>\n      <td>0</td>\n    </tr>\n  </tbody>\n</table>\n<p>5 rows × 1024 columns</p>\n</div>"
     },
     "execution_count": 65,
     "metadata": {},
     "output_type": "execute_result"
    }
   ],
   "source": [
    "X_train = pd.read_csv(\n",
    "    \"/home/muzammil/Python_programs/Arabic Handwritten digits/archive/Arabic Handwritten Characters Dataset CSV/csvTrainImages 13440x1024.csv\")\n",
    "X_train.head()"
   ]
  },
  {
   "cell_type": "code",
   "execution_count": 66,
   "metadata": {
    "pycharm": {
     "name": "#%%\n"
    }
   },
   "outputs": [
    {
     "data": {
      "text/plain": "   0  0.1  0.2  0.3  0.4  0.5  0.6  0.7  0.8  0.9  ...  0.919  0.920  0.921  \\\n0  0    0    0    0    0    0    0    0    0    0  ...      0      0      0   \n1  0    0    0    0    0    0    0    0    0    0  ...      0      0      0   \n2  0    0    0    0    0    0    0    0    0    0  ...      0      0      0   \n3  0    0    0    0    0    0    0    0    0    0  ...      0      0      0   \n4  0    0    0    0    0    0    0    0    0    0  ...      0      0      0   \n\n   0.922  0.923  0.924  0.925  0.926  0.927  0.928  \n0      0      0      0      0      0      0      0  \n1      0      0      0      0      0      0      0  \n2      0      0      0      0      0      0      0  \n3      0      0      0      0      0      0      0  \n4      0      0      0      0      0      0      0  \n\n[5 rows x 1024 columns]",
      "text/html": "<div>\n<style scoped>\n    .dataframe tbody tr th:only-of-type {\n        vertical-align: middle;\n    }\n\n    .dataframe tbody tr th {\n        vertical-align: top;\n    }\n\n    .dataframe thead th {\n        text-align: right;\n    }\n</style>\n<table border=\"1\" class=\"dataframe\">\n  <thead>\n    <tr style=\"text-align: right;\">\n      <th></th>\n      <th>0</th>\n      <th>0.1</th>\n      <th>0.2</th>\n      <th>0.3</th>\n      <th>0.4</th>\n      <th>0.5</th>\n      <th>0.6</th>\n      <th>0.7</th>\n      <th>0.8</th>\n      <th>0.9</th>\n      <th>...</th>\n      <th>0.919</th>\n      <th>0.920</th>\n      <th>0.921</th>\n      <th>0.922</th>\n      <th>0.923</th>\n      <th>0.924</th>\n      <th>0.925</th>\n      <th>0.926</th>\n      <th>0.927</th>\n      <th>0.928</th>\n    </tr>\n  </thead>\n  <tbody>\n    <tr>\n      <th>0</th>\n      <td>0</td>\n      <td>0</td>\n      <td>0</td>\n      <td>0</td>\n      <td>0</td>\n      <td>0</td>\n      <td>0</td>\n      <td>0</td>\n      <td>0</td>\n      <td>0</td>\n      <td>...</td>\n      <td>0</td>\n      <td>0</td>\n      <td>0</td>\n      <td>0</td>\n      <td>0</td>\n      <td>0</td>\n      <td>0</td>\n      <td>0</td>\n      <td>0</td>\n      <td>0</td>\n    </tr>\n    <tr>\n      <th>1</th>\n      <td>0</td>\n      <td>0</td>\n      <td>0</td>\n      <td>0</td>\n      <td>0</td>\n      <td>0</td>\n      <td>0</td>\n      <td>0</td>\n      <td>0</td>\n      <td>0</td>\n      <td>...</td>\n      <td>0</td>\n      <td>0</td>\n      <td>0</td>\n      <td>0</td>\n      <td>0</td>\n      <td>0</td>\n      <td>0</td>\n      <td>0</td>\n      <td>0</td>\n      <td>0</td>\n    </tr>\n    <tr>\n      <th>2</th>\n      <td>0</td>\n      <td>0</td>\n      <td>0</td>\n      <td>0</td>\n      <td>0</td>\n      <td>0</td>\n      <td>0</td>\n      <td>0</td>\n      <td>0</td>\n      <td>0</td>\n      <td>...</td>\n      <td>0</td>\n      <td>0</td>\n      <td>0</td>\n      <td>0</td>\n      <td>0</td>\n      <td>0</td>\n      <td>0</td>\n      <td>0</td>\n      <td>0</td>\n      <td>0</td>\n    </tr>\n    <tr>\n      <th>3</th>\n      <td>0</td>\n      <td>0</td>\n      <td>0</td>\n      <td>0</td>\n      <td>0</td>\n      <td>0</td>\n      <td>0</td>\n      <td>0</td>\n      <td>0</td>\n      <td>0</td>\n      <td>...</td>\n      <td>0</td>\n      <td>0</td>\n      <td>0</td>\n      <td>0</td>\n      <td>0</td>\n      <td>0</td>\n      <td>0</td>\n      <td>0</td>\n      <td>0</td>\n      <td>0</td>\n    </tr>\n    <tr>\n      <th>4</th>\n      <td>0</td>\n      <td>0</td>\n      <td>0</td>\n      <td>0</td>\n      <td>0</td>\n      <td>0</td>\n      <td>0</td>\n      <td>0</td>\n      <td>0</td>\n      <td>0</td>\n      <td>...</td>\n      <td>0</td>\n      <td>0</td>\n      <td>0</td>\n      <td>0</td>\n      <td>0</td>\n      <td>0</td>\n      <td>0</td>\n      <td>0</td>\n      <td>0</td>\n      <td>0</td>\n    </tr>\n  </tbody>\n</table>\n<p>5 rows × 1024 columns</p>\n</div>"
     },
     "execution_count": 66,
     "metadata": {},
     "output_type": "execute_result"
    }
   ],
   "source": [
    "X_test = pd.read_csv(\n",
    "    \"/home/muzammil/Python_programs/Arabic Handwritten digits/archive/Arabic Handwritten Characters Dataset CSV/csvTestImages 3360x1024.csv\")\n",
    "X_test.head()"
   ]
  },
  {
   "cell_type": "code",
   "execution_count": 67,
   "metadata": {
    "pycharm": {
     "name": "#%%\n"
    }
   },
   "outputs": [
    {
     "data": {
      "text/plain": "   1\n0  1\n1  2\n2  2\n3  3\n4  3",
      "text/html": "<div>\n<style scoped>\n    .dataframe tbody tr th:only-of-type {\n        vertical-align: middle;\n    }\n\n    .dataframe tbody tr th {\n        vertical-align: top;\n    }\n\n    .dataframe thead th {\n        text-align: right;\n    }\n</style>\n<table border=\"1\" class=\"dataframe\">\n  <thead>\n    <tr style=\"text-align: right;\">\n      <th></th>\n      <th>1</th>\n    </tr>\n  </thead>\n  <tbody>\n    <tr>\n      <th>0</th>\n      <td>1</td>\n    </tr>\n    <tr>\n      <th>1</th>\n      <td>2</td>\n    </tr>\n    <tr>\n      <th>2</th>\n      <td>2</td>\n    </tr>\n    <tr>\n      <th>3</th>\n      <td>3</td>\n    </tr>\n    <tr>\n      <th>4</th>\n      <td>3</td>\n    </tr>\n  </tbody>\n</table>\n</div>"
     },
     "execution_count": 67,
     "metadata": {},
     "output_type": "execute_result"
    }
   ],
   "source": [
    "y_test = pd.read_csv(\n",
    "    \"/home/muzammil/Python_programs/Arabic Handwritten digits/archive/Arabic Handwritten Characters Dataset CSV/csvTestLabel 3360x1.csv\")\n",
    "Y_test = y_test\n",
    "Y_test.head()"
   ]
  },
  {
   "cell_type": "code",
   "execution_count": 68,
   "metadata": {
    "pycharm": {
     "name": "#%%\n"
    }
   },
   "outputs": [],
   "source": [
    "X_train = X_train.iloc[:, :].values.astype('float32')\n",
    "Y_train = Y_train.iloc[:, :].values.astype('int32') - 1  # fix the index in dataset\n",
    "\n",
    "X_test = X_test.iloc[:, :].values.astype('float32')\n",
    "Y_test = Y_test.iloc[:, :].values.astype('int32') - 1\n"
   ]
  },
  {
   "cell_type": "code",
   "execution_count": 69,
   "metadata": {
    "pycharm": {
     "name": "#%%\n"
    }
   },
   "outputs": [
    {
     "name": "stdout",
     "output_type": "stream",
     "text": [
      "Train images shape:  (13439, 32, 32)\n",
      "Train labels shape:  (13439, 1)\n",
      "Test images shape:  (3359, 32, 32)\n",
      "Test labels shape:  (3359, 1)\n"
     ]
    }
   ],
   "source": [
    "\n",
    "X_train = X_train.reshape(X_train.shape[0], 32, 32)\n",
    "X_test = X_test.reshape(X_test.shape[0], 32, 32)\n",
    "print(\"Train images shape: \", X_train.shape)\n",
    "print(\"Train labels shape: \", Y_train.shape)\n",
    "\n",
    "print(\"Test images shape: \", X_test.shape)\n",
    "print(\"Test labels shape: \", Y_test.shape)"
   ]
  },
  {
   "cell_type": "markdown",
   "metadata": {
    "pycharm": {
     "name": "#%% md\n"
    }
   },
   "source": [
    "<h1>VISUALIZATION</h1>"
   ]
  },
  {
   "cell_type": "code",
   "execution_count": 70,
   "metadata": {
    "pycharm": {
     "name": "#%%\n"
    }
   },
   "outputs": [
    {
     "data": {
      "text/plain": "<Figure size 1080x1080 with 16 Axes>",
      "image/png": "[encoded data removed]"
     },
     "metadata": {},
     "output_type": "display_data"
    }
   ],
   "source": [
    "plt.figure(figsize=(15, 15))\n",
    "random_num = np.random.randint(0, 13439, size=16)\n",
    "for i in range(16):\n",
    "    plt.subplot(4, 4, i + 1)\n",
    "    plt.xticks([])\n",
    "    plt.yticks([])\n",
    "    plt.imshow(X_train[random_num[i]].reshape(32, 32).T, \"gray\")\n",
    "    plt.xlabel(int(Y_train[random_num[i]][0]) + 1)"
   ]
  },
  {
   "cell_type": "code",
   "execution_count": 71,
   "metadata": {
    "pycharm": {
     "name": "#%%\n"
    }
   },
   "outputs": [
    {
     "data": {
      "text/plain": "28"
     },
     "execution_count": 71,
     "metadata": {},
     "output_type": "execute_result"
    }
   ],
   "source": [
    "# normalize images\n",
    "X_train = X_train / 255.0\n",
    "X_test = X_test / 255.0\n",
    "n_classes = len(np.unique(Y_train))\n",
    "n_classes"
   ]
  },
  {
   "cell_type": "code",
   "execution_count": 72,
   "metadata": {
    "pycharm": {
     "name": "#%%\n"
    }
   },
   "outputs": [],
   "source": [
    "Y_train = keras.utils.to_categorical(Y_train, n_classes)\n",
    "Y_test = keras.utils.to_categorical(Y_test, n_classes)"
   ]
  },
  {
   "cell_type": "code",
   "execution_count": 73,
   "metadata": {
    "pycharm": {
     "name": "#%%\n"
    }
   },
   "outputs": [],
   "source": [
    "X_train = X_train.reshape([-1, 32, 32, 1])\n",
    "X_test = X_test.reshape([-1, 32, 32, 1])"
   ]
  },
  {
   "cell_type": "code",
   "execution_count": 74,
   "outputs": [],
   "source": [
    "# create and configure augmented image generator\n",
    "datagen_train = ImageDataGenerator(\n",
    "    width_shift_range=0.1,  # randomly shift images horizontally (10% of total width)\n",
    "    height_shift_range=0.1,  # randomly shift images vertically (10% of total height)\n",
    "    horizontal_flip=True) # randomly flip images horizontally\n",
    "\n",
    "# fit augmented image generator on data\n",
    "datagen_train.fit(X_train)"
   ],
   "metadata": {
    "collapsed": false,
    "pycharm": {
     "name": "#%%\n"
    }
   }
  },
  {
   "cell_type": "markdown",
   "source": [
    "<h1>CONVOLUTIONAL NEURAL NETWORK</h1>"
   ],
   "metadata": {
    "collapsed": false
   }
  },
  {
   "cell_type": "code",
   "execution_count": 75,
   "outputs": [
    {
     "name": "stdout",
     "output_type": "stream",
     "text": [
      "Model: \"sequential_2\"\n",
      "_________________________________________________________________\n",
      " Layer (type)                Output Shape              Param #   \n",
      "=================================================================\n",
      " conv2d_8 (Conv2D)           (None, 32, 32, 32)        832       \n",
      "                                                                 \n",
      " conv2d_9 (Conv2D)           (None, 32, 32, 32)        25632     \n",
      "                                                                 \n",
      " max_pooling2d_4 (MaxPooling  (None, 16, 16, 32)       0         \n",
      " 2D)                                                             \n",
      "                                                                 \n",
      " dropout_6 (Dropout)         (None, 16, 16, 32)        0         \n",
      "                                                                 \n",
      " conv2d_10 (Conv2D)          (None, 16, 16, 64)        18496     \n",
      "                                                                 \n",
      " conv2d_11 (Conv2D)          (None, 16, 16, 64)        36928     \n",
      "                                                                 \n",
      " max_pooling2d_5 (MaxPooling  (None, 8, 8, 64)         0         \n",
      " 2D)                                                             \n",
      "                                                                 \n",
      " dropout_7 (Dropout)         (None, 8, 8, 64)          0         \n",
      "                                                                 \n",
      " flatten_2 (Flatten)         (None, 4096)              0         \n",
      "                                                                 \n",
      " dense_6 (Dense)             (None, 256)               1048832   \n",
      "                                                                 \n",
      " dense_7 (Dense)             (None, 256)               65792     \n",
      "                                                                 \n",
      " dropout_8 (Dropout)         (None, 256)               0         \n",
      "                                                                 \n",
      " dense_8 (Dense)             (None, 28)                7196      \n",
      "                                                                 \n",
      "=================================================================\n",
      "Total params: 1,203,708\n",
      "Trainable params: 1,203,708\n",
      "Non-trainable params: 0\n",
      "_________________________________________________________________\n"
     ]
    }
   ],
   "source": [
    "\n",
    "model = keras.Sequential()\n",
    "\n",
    "model.add(layers.Conv2D(filters=32, kernel_size=5, padding='same', activation='relu', input_shape=(32, 32, 1)))\n",
    "model.add(layers.Conv2D(filters=32, kernel_size=5, padding='same', activation='relu'))\n",
    "model.add(layers.MaxPool2D(pool_size=(2, 2)))\n",
    "model.add(layers.Dropout(0.25))\n",
    "\n",
    "model.add(layers.Conv2D(filters=64, kernel_size=3, padding='same', activation='relu'))\n",
    "model.add(layers.Conv2D(filters=64, kernel_size=3, padding='same', activation='relu'))\n",
    "model.add(layers.MaxPool2D(pool_size=(2, 2), strides=(2, 2)))\n",
    "model.add(layers.Dropout(0.25))\n",
    "\n",
    "model.add(layers.Flatten())\n",
    "\n",
    "model.add(layers.Dense(256, input_dim=1024, activation='relu'))\n",
    "model.add(layers.Dense(256, activation='relu'))\n",
    "model.add(layers.Dropout(0.5))\n",
    "\n",
    "model.add(layers.Dense(n_classes, activation='softmax'))\n",
    "\n",
    "model.summary()\n"
   ],
   "metadata": {
    "collapsed": false,
    "pycharm": {
     "name": "#%%\n"
    }
   }
  },
  {
   "cell_type": "code",
   "execution_count": 76,
   "outputs": [],
   "source": [
    "\n",
    "model.compile(\n",
    "    optimizer='adam',\n",
    "    loss='categorical_crossentropy',\n",
    "    metrics=['accuracy']\n",
    ")\n"
   ],
   "metadata": {
    "collapsed": false,
    "pycharm": {
     "name": "#%%\n"
    }
   }
  },
  {
   "cell_type": "code",
   "execution_count": 77,
   "outputs": [
    {
     "name": "stdout",
     "output_type": "stream",
     "text": [
      "Epoch 1/50\n"
     ]
    },
    {
     "name": "stderr",
     "output_type": "stream",
     "text": [
      "/tmp/ipykernel_4271/472995699.py:1: UserWarning: `Model.fit_generator` is deprecated and will be removed in a future version. Please use `Model.fit`, which supports generators.\n",
      "  history=model.fit_generator(datagen_train.flow(X_train, Y_train, batch_size = 128),\n"
     ]
    },
    {
     "name": "stdout",
     "output_type": "stream",
     "text": [
      "104/104 [==============================] - 74s 697ms/step - loss: 2.8328 - accuracy: 0.1466 - val_loss: 1.6847 - val_accuracy: 0.4204\n",
      "Epoch 2/50\n",
      "104/104 [==============================] - 70s 671ms/step - loss: 1.7308 - accuracy: 0.4078 - val_loss: 1.1750 - val_accuracy: 0.5755\n",
      "Epoch 3/50\n",
      "104/104 [==============================] - 72s 689ms/step - loss: 1.2634 - accuracy: 0.5553 - val_loss: 0.7385 - val_accuracy: 0.7440\n",
      "Epoch 4/50\n",
      "104/104 [==============================] - 70s 670ms/step - loss: 1.0191 - accuracy: 0.6395 - val_loss: 0.5667 - val_accuracy: 0.8044\n",
      "Epoch 5/50\n",
      "104/104 [==============================] - 70s 673ms/step - loss: 0.8447 - accuracy: 0.7064 - val_loss: 0.4231 - val_accuracy: 0.8598\n",
      "Epoch 6/50\n",
      "104/104 [==============================] - 67s 641ms/step - loss: 0.7284 - accuracy: 0.7504 - val_loss: 0.4230 - val_accuracy: 0.8619\n",
      "Epoch 7/50\n",
      "104/104 [==============================] - 74s 711ms/step - loss: 0.6388 - accuracy: 0.7833 - val_loss: 0.3388 - val_accuracy: 0.8913\n",
      "Epoch 8/50\n",
      "104/104 [==============================] - 78s 747ms/step - loss: 0.5620 - accuracy: 0.8108 - val_loss: 0.3145 - val_accuracy: 0.8991\n",
      "Epoch 9/50\n",
      "104/104 [==============================] - 64s 616ms/step - loss: 0.4977 - accuracy: 0.8307 - val_loss: 0.2740 - val_accuracy: 0.9134\n",
      "Epoch 10/50\n",
      "104/104 [==============================] - 63s 608ms/step - loss: 0.4795 - accuracy: 0.8392 - val_loss: 0.2581 - val_accuracy: 0.9166\n",
      "Epoch 11/50\n",
      "104/104 [==============================] - 61s 588ms/step - loss: 0.4376 - accuracy: 0.8567 - val_loss: 0.2923 - val_accuracy: 0.9125\n",
      "Epoch 12/50\n",
      "104/104 [==============================] - 61s 591ms/step - loss: 0.4028 - accuracy: 0.8688 - val_loss: 0.2470 - val_accuracy: 0.9214\n",
      "Epoch 13/50\n",
      "104/104 [==============================] - 61s 589ms/step - loss: 0.3668 - accuracy: 0.8797 - val_loss: 0.2190 - val_accuracy: 0.9342\n",
      "Epoch 14/50\n",
      "104/104 [==============================] - 61s 591ms/step - loss: 0.3481 - accuracy: 0.8854 - val_loss: 0.2124 - val_accuracy: 0.9348\n",
      "Epoch 15/50\n",
      "104/104 [==============================] - 62s 594ms/step - loss: 0.3335 - accuracy: 0.8887 - val_loss: 0.2172 - val_accuracy: 0.9312\n",
      "Epoch 16/50\n",
      "104/104 [==============================] - 61s 590ms/step - loss: 0.3191 - accuracy: 0.8941 - val_loss: 0.1803 - val_accuracy: 0.9485\n",
      "Epoch 17/50\n",
      "104/104 [==============================] - 62s 594ms/step - loss: 0.3106 - accuracy: 0.9016 - val_loss: 0.1850 - val_accuracy: 0.9470\n",
      "Epoch 18/50\n",
      "104/104 [==============================] - 62s 593ms/step - loss: 0.2915 - accuracy: 0.9046 - val_loss: 0.1650 - val_accuracy: 0.9479\n",
      "Epoch 19/50\n",
      "104/104 [==============================] - 62s 592ms/step - loss: 0.2656 - accuracy: 0.9129 - val_loss: 0.1700 - val_accuracy: 0.9476\n",
      "Epoch 20/50\n",
      "104/104 [==============================] - 61s 588ms/step - loss: 0.2626 - accuracy: 0.9156 - val_loss: 0.1568 - val_accuracy: 0.9503\n",
      "Epoch 21/50\n",
      "104/104 [==============================] - 61s 590ms/step - loss: 0.2510 - accuracy: 0.9192 - val_loss: 0.1568 - val_accuracy: 0.9533\n",
      "Epoch 22/50\n",
      "104/104 [==============================] - 61s 589ms/step - loss: 0.2507 - accuracy: 0.9186 - val_loss: 0.1607 - val_accuracy: 0.9539\n",
      "Epoch 23/50\n",
      "104/104 [==============================] - 61s 589ms/step - loss: 0.2372 - accuracy: 0.9234 - val_loss: 0.1544 - val_accuracy: 0.9613\n",
      "Epoch 24/50\n",
      "104/104 [==============================] - 61s 589ms/step - loss: 0.2309 - accuracy: 0.9257 - val_loss: 0.1580 - val_accuracy: 0.9571\n",
      "Epoch 25/50\n",
      "104/104 [==============================] - 61s 588ms/step - loss: 0.2215 - accuracy: 0.9292 - val_loss: 0.1370 - val_accuracy: 0.9649\n",
      "Epoch 26/50\n",
      "104/104 [==============================] - 63s 608ms/step - loss: 0.2087 - accuracy: 0.9320 - val_loss: 0.1303 - val_accuracy: 0.9640\n",
      "Epoch 27/50\n",
      "104/104 [==============================] - 61s 591ms/step - loss: 0.2089 - accuracy: 0.9316 - val_loss: 0.1460 - val_accuracy: 0.9589\n",
      "Epoch 28/50\n",
      "104/104 [==============================] - 62s 591ms/step - loss: 0.2023 - accuracy: 0.9346 - val_loss: 0.1291 - val_accuracy: 0.9628\n",
      "Epoch 29/50\n",
      "104/104 [==============================] - 63s 609ms/step - loss: 0.1939 - accuracy: 0.9382 - val_loss: 0.1464 - val_accuracy: 0.9586\n",
      "Epoch 30/50\n",
      "104/104 [==============================] - 73s 698ms/step - loss: 0.1945 - accuracy: 0.9373 - val_loss: 0.1323 - val_accuracy: 0.9619\n",
      "Epoch 31/50\n",
      "104/104 [==============================] - 76s 726ms/step - loss: 0.1819 - accuracy: 0.9405 - val_loss: 0.1378 - val_accuracy: 0.9616\n",
      "Epoch 32/50\n",
      "104/104 [==============================] - 75s 719ms/step - loss: 0.1772 - accuracy: 0.9443 - val_loss: 0.1402 - val_accuracy: 0.9601\n",
      "Epoch 33/50\n",
      "104/104 [==============================] - 71s 683ms/step - loss: 0.1790 - accuracy: 0.9429 - val_loss: 0.1298 - val_accuracy: 0.9667\n",
      "Epoch 34/50\n",
      "104/104 [==============================] - 59s 570ms/step - loss: 0.1652 - accuracy: 0.9489 - val_loss: 0.1453 - val_accuracy: 0.9655\n",
      "Epoch 35/50\n",
      "104/104 [==============================] - 66s 635ms/step - loss: 0.1600 - accuracy: 0.9486 - val_loss: 0.1240 - val_accuracy: 0.9661\n",
      "Epoch 36/50\n",
      "104/104 [==============================] - 68s 655ms/step - loss: 0.1637 - accuracy: 0.9461 - val_loss: 0.1339 - val_accuracy: 0.9619\n",
      "Epoch 37/50\n",
      "104/104 [==============================] - 64s 615ms/step - loss: 0.1521 - accuracy: 0.9499 - val_loss: 0.1395 - val_accuracy: 0.9637\n",
      "Epoch 38/50\n",
      "104/104 [==============================] - 66s 633ms/step - loss: 0.1509 - accuracy: 0.9523 - val_loss: 0.1361 - val_accuracy: 0.9637\n",
      "Epoch 39/50\n",
      "104/104 [==============================] - 66s 633ms/step - loss: 0.1561 - accuracy: 0.9537 - val_loss: 0.1070 - val_accuracy: 0.9673\n",
      "Epoch 40/50\n",
      "104/104 [==============================] - 88s 850ms/step - loss: 0.1490 - accuracy: 0.9519 - val_loss: 0.1146 - val_accuracy: 0.9687\n",
      "Epoch 41/50\n",
      "104/104 [==============================] - 66s 638ms/step - loss: 0.1464 - accuracy: 0.9538 - val_loss: 0.1279 - val_accuracy: 0.9667\n",
      "Epoch 42/50\n",
      "104/104 [==============================] - 74s 711ms/step - loss: 0.1465 - accuracy: 0.9544 - val_loss: 0.1274 - val_accuracy: 0.9649\n",
      "Epoch 43/50\n",
      "104/104 [==============================] - 73s 700ms/step - loss: 0.1370 - accuracy: 0.9555 - val_loss: 0.1147 - val_accuracy: 0.9684\n",
      "Epoch 44/50\n",
      "104/104 [==============================] - 70s 674ms/step - loss: 0.1334 - accuracy: 0.9576 - val_loss: 0.1088 - val_accuracy: 0.9699\n",
      "Epoch 45/50\n",
      "104/104 [==============================] - 70s 678ms/step - loss: 0.1315 - accuracy: 0.9574 - val_loss: 0.1306 - val_accuracy: 0.9658\n",
      "Epoch 46/50\n",
      "104/104 [==============================] - 76s 733ms/step - loss: 0.1409 - accuracy: 0.9552 - val_loss: 0.1136 - val_accuracy: 0.9687\n",
      "Epoch 47/50\n",
      "104/104 [==============================] - 65s 626ms/step - loss: 0.1284 - accuracy: 0.9609 - val_loss: 0.1258 - val_accuracy: 0.9673\n",
      "Epoch 48/50\n",
      "104/104 [==============================] - 72s 689ms/step - loss: 0.1296 - accuracy: 0.9580 - val_loss: 0.1173 - val_accuracy: 0.9690\n",
      "Epoch 49/50\n",
      "104/104 [==============================] - 65s 626ms/step - loss: 0.1251 - accuracy: 0.9605 - val_loss: 0.1235 - val_accuracy: 0.9705\n",
      "Epoch 50/50\n",
      "104/104 [==============================] - 62s 599ms/step - loss: 0.1293 - accuracy: 0.9591 - val_loss: 0.1257 - val_accuracy: 0.9670\n"
     ]
    }
   ],
   "source": [
    "history=model.fit_generator(datagen_train.flow(X_train, Y_train, batch_size = 128),\n",
    "                               epochs=50, steps_per_epoch = X_train.shape[0]//128,\n",
    "                               validation_data=(X_test, Y_test),\n",
    "                               verbose=1)"
   ],
   "metadata": {
    "collapsed": false,
    "pycharm": {
     "name": "#%%\n"
    }
   }
  },
  {
   "cell_type": "code",
   "execution_count": 79,
   "outputs": [],
   "source": [
    "model.save(\"AHDC.h5\")"
   ],
   "metadata": {
    "collapsed": false,
    "pycharm": {
     "name": "#%%\n"
    }
   }
  },
  {
   "cell_type": "markdown",
   "source": [
    "<h1>Accuracy</h1>"
   ],
   "metadata": {
    "collapsed": false
   }
  },
  {
   "cell_type": "code",
   "execution_count": 81,
   "metadata": {
    "pycharm": {
     "name": "#%%\n"
    }
   },
   "outputs": [
    {
     "name": "stdout",
     "output_type": "stream",
     "text": [
      "105/105 [==============================] - 3s 30ms/step - loss: 0.1257 - accuracy: 0.9670\n"
     ]
    },
    {
     "data": {
      "text/plain": "[0.12572503089904785, 0.9669544696807861]"
     },
     "execution_count": 81,
     "metadata": {},
     "output_type": "execute_result"
    }
   ],
   "source": [
    "model=tf.keras.models.load_model(\"AHDC.h5\")\n",
    "model.evaluate(X_test, Y_test)"
   ]
  },
  {
   "cell_type": "code",
   "execution_count": 88,
   "outputs": [
    {
     "data": {
      "text/plain": "<Figure size 1440x720 with 1 Axes>",
      "image/png": "[encoded data removed]"
     },
     "metadata": {
      "needs_background": "light"
     },
     "output_type": "display_data"
    }
   ],
   "source": [
    "plt.figure(figsize=(20,10))\n",
    "plt.plot(history.history['accuracy'])\n",
    "plt.plot(history.history['val_accuracy'])\n",
    "plt.title('model accuracy')\n",
    "plt.ylabel('accuracy')\n",
    "plt.xlabel('epoch')\n",
    "plt.legend(['train', 'test'], loc='upper left')\n",
    "plt.show()"
   ],
   "metadata": {
    "collapsed": false,
    "pycharm": {
     "name": "#%%\n"
    }
   }
  },
  {
   "cell_type": "code",
   "execution_count": 89,
   "outputs": [
    {
     "data": {
      "text/plain": "<Figure size 1440x720 with 1 Axes>",
      "image/png": "[encoded data removed]"
     },
     "metadata": {
      "needs_background": "light"
     },
     "output_type": "display_data"
    }
   ],
   "source": [
    "plt.figure(figsize=(20,10))\n",
    "plt.plot(history.history['loss'])\n",
    "plt.plot(history.history['val_loss'])\n",
    "plt.title('model loss')\n",
    "plt.ylabel('loss')\n",
    "plt.xlabel('epoch')\n",
    "plt.legend(['train', 'test'], loc='upper left')\n",
    "plt.show()"
   ],
   "metadata": {
    "collapsed": false,
    "pycharm": {
     "name": "#%%\n"
    }
   }
  },
  {
   "cell_type": "markdown",
   "source": [
    "<h1>Some Predictions</h1>"
   ],
   "metadata": {
    "collapsed": false
   }
  },
  {
   "cell_type": "code",
   "execution_count": 90,
   "outputs": [
    {
     "data": {
      "text/plain": "array([1.0000000e+00, 2.8871466e-22, 0.0000000e+00, 8.8107740e-31,\n       1.5271246e-28, 1.2126805e-22, 5.7913458e-19, 4.2952046e-25,\n       2.7386618e-22, 4.4729398e-17, 5.3775445e-15, 5.4259118e-28,\n       8.0780953e-32, 2.4610366e-35, 7.8236645e-35, 1.4440622e-19,\n       4.7538260e-20, 1.4661717e-14, 3.9497050e-17, 1.0547403e-31,\n       1.5138276e-32, 6.1176784e-25, 2.8187996e-17, 1.0437574e-16,\n       8.4870104e-33, 2.7737475e-29, 5.5635261e-23, 1.2515045e-22],\n      dtype=float32)"
     },
     "execution_count": 90,
     "metadata": {},
     "output_type": "execute_result"
    }
   ],
   "source": [
    "Y_predicted = model.predict(X_test)\n",
    "Y_predicted[0]"
   ],
   "metadata": {
    "collapsed": false,
    "pycharm": {
     "name": "#%%\n"
    }
   }
  },
  {
   "cell_type": "code",
   "execution_count": 91,
   "outputs": [
    {
     "data": {
      "text/plain": "0"
     },
     "execution_count": 91,
     "metadata": {},
     "output_type": "execute_result"
    }
   ],
   "source": [
    "np.argmax(Y_predicted[0])"
   ],
   "metadata": {
    "collapsed": false,
    "pycharm": {
     "name": "#%%\n"
    }
   }
  },
  {
   "cell_type": "code",
   "execution_count": 92,
   "outputs": [
    {
     "data": {
      "text/plain": "17"
     },
     "execution_count": 92,
     "metadata": {},
     "output_type": "execute_result"
    }
   ],
   "source": [
    "np.argmax(Y_predicted[89])"
   ],
   "metadata": {
    "collapsed": false,
    "pycharm": {
     "name": "#%%\n"
    }
   }
  },
  {
   "cell_type": "code",
   "execution_count": 93,
   "outputs": [
    {
     "data": {
      "text/plain": "<matplotlib.image.AxesImage at 0x7f2d24e80fd0>"
     },
     "execution_count": 93,
     "metadata": {},
     "output_type": "execute_result"
    },
    {
     "data": {
      "text/plain": "<Figure size 432x288 with 1 Axes>",
      "image/png": "[encoded data removed]"
     },
     "metadata": {},
     "output_type": "display_data"
    }
   ],
   "source": [
    "\n",
    "plt.xticks([])\n",
    "plt.yticks([])\n",
    "\n",
    "plt.imshow(X_test[89].reshape(32, 32).T, \"gray\")"
   ],
   "metadata": {
    "collapsed": false,
    "pycharm": {
     "name": "#%%\n"
    }
   }
  },
  {
   "cell_type": "code",
   "execution_count": 94,
   "outputs": [
    {
     "data": {
      "text/plain": "'ع'"
     },
     "execution_count": 94,
     "metadata": {},
     "output_type": "execute_result"
    }
   ],
   "source": [
    "characters_dict.get(17 + 1)"
   ],
   "metadata": {
    "collapsed": false,
    "pycharm": {
     "name": "#%%\n"
    }
   }
  },
  {
   "cell_type": "code",
   "execution_count": 95,
   "outputs": [
    {
     "data": {
      "text/plain": "<matplotlib.image.AxesImage at 0x7f2d24e4ea10>"
     },
     "execution_count": 95,
     "metadata": {},
     "output_type": "execute_result"
    },
    {
     "data": {
      "text/plain": "<Figure size 432x288 with 1 Axes>",
      "image/png": "[encoded data removed]"
     },
     "metadata": {},
     "output_type": "display_data"
    }
   ],
   "source": [
    "plt.xticks([])\n",
    "plt.yticks([])\n",
    "\n",
    "plt.imshow(X_test[0].reshape(32, 32).T, \"gray\")"
   ],
   "metadata": {
    "collapsed": false,
    "pycharm": {
     "name": "#%%\n"
    }
   }
  },
  {
   "cell_type": "code",
   "execution_count": 96,
   "outputs": [
    {
     "data": {
      "text/plain": "'ا'"
     },
     "execution_count": 96,
     "metadata": {},
     "output_type": "execute_result"
    }
   ],
   "source": [
    "characters_dict.get(0 + 1)"
   ],
   "metadata": {
    "collapsed": false,
    "pycharm": {
     "name": "#%%\n"
    }
   }
  },
  {
   "cell_type": "code",
   "execution_count": 97,
   "outputs": [
    {
     "data": {
      "text/plain": "[0, 1, 1, 2, 2]"
     },
     "execution_count": 97,
     "metadata": {},
     "output_type": "execute_result"
    }
   ],
   "source": [
    "y_predicted_labels = [np.argmax(i) for i in Y_predicted]\n",
    "y_predicted_labels[:5]"
   ],
   "metadata": {
    "collapsed": false,
    "pycharm": {
     "name": "#%%\n"
    }
   }
  },
  {
   "cell_type": "code",
   "execution_count": 111,
   "outputs": [
    {
     "data": {
      "text/plain": "['ا', 'ب', 'ت', 'ث', 'ج']"
     },
     "execution_count": 111,
     "metadata": {},
     "output_type": "execute_result"
    }
   ],
   "source": [
    "y_predicted_labels1 = [characters_dict.get(i) for i in characters_dict]\n",
    "y_predicted_labels1[:5]"
   ],
   "metadata": {
    "collapsed": false,
    "pycharm": {
     "name": "#%%\n"
    }
   }
  },
  {
   "cell_type": "markdown",
   "source": [
    " <h1>Confusion Matrix</h1>"
   ],
   "metadata": {
    "collapsed": false
   }
  },
  {
   "cell_type": "code",
   "execution_count": 99,
   "outputs": [],
   "source": [
    "y_pred = model.predict(X_test)\n",
    "y_obs = np.argmax(y_pred, axis=1)\n",
    "y_true = np.argmax(Y_test, axis=1)"
   ],
   "metadata": {
    "collapsed": false,
    "pycharm": {
     "name": "#%%\n"
    }
   }
  },
  {
   "cell_type": "code",
   "execution_count": 100,
   "outputs": [
    {
     "name": "stdout",
     "output_type": "stream",
     "text": [
      "Test Accuracy:  0.9669544507293838\n"
     ]
    },
    {
     "data": {
      "text/plain": "<Figure size 2160x1440 with 2 Axes>",
      "image/png": "[encoded data removed]"
     },
     "metadata": {
      "needs_background": "light"
     },
     "output_type": "display_data"
    }
   ],
   "source": [
    "test_acc = accuracy_score(y_true, y_obs)\n",
    "cm = confusion_matrix(y_true, y_obs)\n",
    "\n",
    "print(\"Test Accuracy: \", test_acc)\n",
    "fig, ax = plt.subplots(figsize=(30, 20))\n",
    "sns.heatmap(cm, annot=True, fmt=\"d\")\n",
    "plt.xlabel(\"Predicted\")\n",
    "plt.ylabel(\"true\")\n",
    "plt.show()"
   ],
   "metadata": {
    "collapsed": false,
    "pycharm": {
     "name": "#%%\n"
    }
   }
  },
  {
   "cell_type": "markdown",
   "source": [
    "\n",
    "<h1>CLASSIFICATION REPORT</h1>"
   ],
   "metadata": {
    "collapsed": false
   }
  },
  {
   "cell_type": "code",
   "execution_count": 101,
   "outputs": [
    {
     "name": "stdout",
     "output_type": "stream",
     "text": [
      "              precision    recall  f1-score   support\n",
      "\n",
      "           0       0.98      1.00      0.99       119\n",
      "           1       0.98      0.98      0.98       120\n",
      "           2       0.96      0.94      0.95       120\n",
      "           3       0.93      1.00      0.96       120\n",
      "           4       0.98      0.98      0.98       120\n",
      "           5       0.99      0.97      0.98       120\n",
      "           6       0.91      0.97      0.94       120\n",
      "           7       0.97      0.96      0.96       120\n",
      "           8       0.91      0.97      0.94       120\n",
      "           9       0.95      0.99      0.97       120\n",
      "          10       0.99      0.89      0.94       120\n",
      "          11       0.99      0.97      0.98       120\n",
      "          12       0.97      1.00      0.98       120\n",
      "          13       0.97      0.98      0.98       120\n",
      "          14       0.99      0.94      0.97       120\n",
      "          15       0.96      0.97      0.96       120\n",
      "          16       0.97      0.97      0.97       120\n",
      "          17       0.97      0.95      0.96       120\n",
      "          18       0.98      0.98      0.98       120\n",
      "          19       0.88      0.97      0.92       120\n",
      "          20       0.96      0.93      0.94       120\n",
      "          21       0.98      0.98      0.98       120\n",
      "          22       1.00      0.99      1.00       120\n",
      "          23       1.00      0.98      0.99       120\n",
      "          24       0.99      0.93      0.96       120\n",
      "          25       0.99      0.95      0.97       120\n",
      "          26       0.97      0.96      0.97       120\n",
      "          27       0.98      0.96      0.97       120\n",
      "\n",
      "    accuracy                           0.97      3359\n",
      "   macro avg       0.97      0.97      0.97      3359\n",
      "weighted avg       0.97      0.97      0.97      3359\n",
      "\n"
     ]
    }
   ],
   "source": [
    "print(classification_report(y_true, y_obs))"
   ],
   "metadata": {
    "collapsed": false,
    "pycharm": {
     "name": "#%%\n"
    }
   }
  },
  {
   "cell_type": "code",
   "execution_count": 28,
   "outputs": [
    {
     "data": {
      "text/plain": "Launching TensorBoard..."
     },
     "metadata": {},
     "output_type": "display_data"
    }
   ],
   "source": [
    "% tensorboard --logdir logs / AHDC"
   ],
   "metadata": {
    "collapsed": false,
    "pycharm": {
     "name": "#%%\n"
    }
   }
  },
  {
   "cell_type": "markdown",
   "source": [
    "<h1>CLASSIFYING IMAGES FROM DEPLOYED MODEL</h1>"
   ],
   "metadata": {
    "collapsed": false,
    "pycharm": {
     "name": "#%% md\n"
    }
   }
  },
  {
   "cell_type": "code",
   "execution_count": 130,
   "outputs": [
    {
     "name": "stdout",
     "output_type": "stream",
     "text": [
      "[INFO] loading and processing images...\n",
      "[INFO] loading network...\n",
      "[INFO] classifying image...\n",
      "ث\n"
     ]
    },
    {
     "data": {
      "text/plain": "<Figure size 432x288 with 1 Axes>",
      "image/png": "[encoded data removed]"
     },
     "metadata": {
      "needs_background": "light"
     },
     "output_type": "display_data"
    }
   ],
   "source": [
    "characters = [\"ا\", \"ب\", \"ت\", \"ث\", \"ج\", \"ح\", \"خ\", \"د\", \"ذ\", \"ر\", \"ز\", \"س\", \"ش\", \"ص\", \"ض\", \"ط\", \"ظ\", \"ع\", \"غ\", \"ف\", \"ق\",\n",
    "              \"ك\", \"ل\", \"م\", \"ن\", \"ه\", \"و\", \"ي\"]\n",
    "characters_dict = dict(zip(np.arange(1, len(characters) + 1), characters))\n",
    "\n",
    "IMG_SIZE=32\n",
    "\n",
    "print(\"[INFO] loading and processing images...\")\n",
    "test_image = cv2.resize(cv2.imread(\"/home/muzammil/Python_programs/Arabic Handwritten digits/archive/test images 3360x32x32/test/id_175_label_4.png\", cv2.IMREAD_GRAYSCALE),  (IMG_SIZE,IMG_SIZE))\n",
    "plt.imshow(test_image,\"gray\")\n",
    "test_image = np.array(test_image).reshape( -1, IMG_SIZE, IMG_SIZE, 1).T\n",
    "test_image=test_image/255\n",
    "\n",
    "\n",
    "\n",
    "print(\"[INFO] loading network...\")\n",
    "model = tf.keras.models.load_model(\"AHDC.h5\")\n",
    "\n",
    "\n",
    "\n",
    "print(\"[INFO] classifying image...\")\n",
    "prediction = model.predict( test_image )\n",
    "label = characters_dict.get((np.argmax(prediction)+1))\n",
    "print(label)"
   ],
   "metadata": {
    "collapsed": false,
    "pycharm": {
     "name": "#%%\n"
    }
   }
  }
 ],
 "metadata": {
  "kernelspec": {
   "display_name": "Python 3 (ipykernel)",
   "language": "python",
   "name": "python3"
  },
  "language_info": {
   "codemirror_mode": {
    "name": "ipython",
    "version": 3
   },
   "file_extension": ".py",
   "mimetype": "text/x-python",
   "name": "python",
   "nbconvert_exporter": "python",
   "pygments_lexer": "ipython3",
   "version": "3.10.4"
  }
 },
 "nbformat": 4,
 "nbformat_minor": 1
}